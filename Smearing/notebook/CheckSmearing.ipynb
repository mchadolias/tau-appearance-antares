{
 "cells": [
  {
   "cell_type": "code",
   "execution_count": 1,
   "metadata": {},
   "outputs": [],
   "source": [
    "import sys\n",
    "import os\n",
    "import numpy as np\n",
    "import matplotlib.pyplot as plt\n",
    "from scipy.stats import norm\n",
    "import seaborn as sns\n",
    "import scienceplots\n",
    "\n",
    "sys.path.append('../..')\n",
    "\n",
    "from libraries import file_management as fm"
   ]
  },
  {
   "cell_type": "code",
   "execution_count": 62,
   "metadata": {},
   "outputs": [],
   "source": [
    "plt.style.use(['science', 'grid', 'no-latex'])"
   ]
  },
  {
   "cell_type": "code",
   "execution_count": 63,
   "metadata": {},
   "outputs": [],
   "source": [
    "plot_dict = {\n",
    "    \"energy\": \"Energy\",\n",
    "    \"cos_zenith\": \"Cosine Zenith\",\n",
    "}\n"
   ]
  },
  {
   "cell_type": "code",
   "execution_count": 2,
   "metadata": {},
   "outputs": [],
   "source": [
    "smearing_level = \"antares\""
   ]
  },
  {
   "cell_type": "code",
   "execution_count": null,
   "metadata": {},
   "outputs": [],
   "source": [
    "if __name__ == \"__main__\":\n",
    "    # Define the path to the ROOT file\n",
    "    \n",
    "    path = \"/sps/km3net/users/mchadoli/Swim/Data/events/ANTARES\"\n",
    "    root_file = f\"antares_w_nnfit_FINAL1_smeared_{smearing_level}.root\"\n",
    "    COLUMNS = [\n",
    "        \"energy_true\",\n",
    "        \"cos_zenith_true\",\n",
    "        \"energy_smeared\",\n",
    "        \"cos_zenith_smeared\", \n",
    "        ]\n",
    "\n",
    "    # Load the ROOT file into a DataFrame\n",
    "    df = fm.load_large_rootfile_to_df(os.path.join(path, root_file), columns=COLUMNS)\n",
    "\n",
    "    # Rounding the energy and cos_zenith columns\n",
    "    df[\"energy_true\"] = df[\"energy_true\"].round(2)\n",
    "    df[\"cos_zenith_true\"] = df[\"cos_zenith_true\"].round(2)"
   ]
  },
  {
   "cell_type": "code",
   "execution_count": 66,
   "metadata": {},
   "outputs": [],
   "source": [
    "def _plot_hist_fit(\n",
    "        df,\n",
    "        parameter = \"energy\",\n",
    "        bins=100,\n",
    "        value= 20,\n",
    "        smearing_level = \"50\",\n",
    "):\n",
    "    \n",
    "    \n",
    "    print(f\"Plotting histogram and Gaussian fit for {parameter} with true value {value}\")\n",
    "    smeared_column = f\"{parameter}_smeared\"\n",
    "    true_column = f\"{parameter}_true\"\n",
    "    data = df[df[true_column] == value]\n",
    "\n",
    "    # 2. Fit a Gaussian distribution to the data\n",
    "    mu, std = norm.fit(data[smeared_column])\n",
    "\n",
    "    # 3. Plot the histogram with counts (density=False automatically uses counts)\n",
    "    fig, ax = plt.subplots(figsize=(10, 6))\n",
    "    data.hist(\n",
    "        column=smeared_column, \n",
    "        bins= bins, \n",
    "        figsize=(10, 6), \n",
    "        ax=ax, \n",
    "        histtype='step', \n",
    "        hatch = '///',\n",
    "        color='b', \n",
    "        lw=2, \n",
    "        label='Histogram')\n",
    "    \n",
    "    # 4. Create x values for the fitted Gaussian curve\n",
    "    xmin, xmax = plt.xlim()  # Get x-axis limits from the histogram\n",
    "    x_values = np.linspace(xmin, xmax, 1000)  # Create 1000 x values between xmin and xmax\n",
    "\n",
    "    # 5. Plot the Gaussian curve directly, scaling to match histogram's y-axis (counts)\n",
    "    p = norm.pdf(x_values, mu, std) * len(data) * (xmax - xmin) / bins\n",
    "\n",
    "    ax.plot(\n",
    "        x_values, \n",
    "        p, \n",
    "        'r--', \n",
    "        lw=2, \n",
    "        label=f'Fitted Gaussian\\n $\\\\mu$={mu:.2f}, $\\\\sigma$={std:.2f}')\n",
    "    \n",
    "    # 6. Customize plot\n",
    "    ax.set_xlabel(f'Smeared {plot_dict[parameter]} [GeV]')\n",
    "    ax.set_ylabel('Counts')\n",
    "    ax.set_title(f'Histogram and Fitted Gaussian for {plot_dict[parameter]} with true value {value} with smearing level {smearing_level} %')\n",
    "    ax.legend(frameon=False)\n",
    "\n",
    "    # 7. Show the plot\n",
    "    fig.tight_layout()\n",
    "    fig.savefig(f\"../plots/test/histogram_{parameter}_{value}.png\")\n"
   ]
  },
  {
   "cell_type": "code",
   "execution_count": null,
   "metadata": {},
   "outputs": [],
   "source": [
    "for value in [0.5, 0.01, -0.5]:\n",
    "    _plot_hist_fit(df, parameter=\"cos_zenith\", value=value)"
   ]
  }
 ],
 "metadata": {
  "kernelspec": {
   "display_name": "master_thesis",
   "language": "python",
   "name": "python3"
  },
  "language_info": {
   "codemirror_mode": {
    "name": "ipython",
    "version": 3
   },
   "file_extension": ".py",
   "mimetype": "text/x-python",
   "name": "python",
   "nbconvert_exporter": "python",
   "pygments_lexer": "ipython3",
   "version": "3.12.6"
  }
 },
 "nbformat": 4,
 "nbformat_minor": 2
}
