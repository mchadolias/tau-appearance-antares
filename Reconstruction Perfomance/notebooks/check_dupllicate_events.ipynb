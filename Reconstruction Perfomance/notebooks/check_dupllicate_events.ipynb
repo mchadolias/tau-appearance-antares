{
 "cells": [
  {
   "cell_type": "code",
   "execution_count": null,
   "metadata": {},
   "outputs": [],
   "source": [
    "import pandas as pd"
   ]
  },
  {
   "cell_type": "code",
   "execution_count": null,
   "metadata": {},
   "outputs": [],
   "source": [
    "def check_duplicates(df):\n",
    "    print(\"Checking for duplicates...\")\n",
    "    print(\"Number of duplicates: \", df.duplicated(subset=[\"RunID\", \"EventID\"]).sum())\n",
    "\n",
    "def return_duplicates(df):\n",
    "    print(\"Number of duplicates: \", df[[\"RunID\", \"EventID\"]].duplicated().sum())\n",
    "    return df[df.duplicated(subset=[\"RunID\", \"EventID\"], keep=False)]\n",
    "              \n",
    "def return_run_events(df, run):\n",
    "    return df[df[\"RunID\"] == run]\n",
    "\n",
    "def check_same_events(df):\n",
    "    print(\"Checking for duplicates...\")\n",
    "    print(\"Number of duplicates: \", df.duplicated(subset=[\"RunID\", \"EventID\", \"energy_true\", \"cos_zenith_true\", \"pos_x_true\", \"pos_y_true\", \"pos_z_true\"]).sum())\n",
    "          \n",
    "def return_same_events(df):\n",
    "    print(\"Number of duplicates: \", df[[\"energy_true\", \"cos_zenith_true\", \"pos_x_true\", \"pos_y_true\", \"pos_z_true\"]].duplicated().sum())\n",
    "    return df[df.duplicated(subset=[\"RunID\", \"EventID\", \"energy_true\", \"cos_zenith_true\", \"pos_x_true\", \"pos_y_true\", \"pos_z_true\"], keep=False)]\n",
    "\n",
    "def check_interaction_type(df):\n",
    "    print(\"Checking for interaction type...\")\n",
    "    print(\"Number of events with same interaction type: \", df.duplicated(subset=[\"RunID\", \"EventID\", \"interaction_type\"]).sum())\n",
    "\n",
    "def return_same_interaction_type(df):\n",
    "    print(\"Number of events with same interaction type: \", df[[\"RunID\", \"EventID\", \"interaction_type\", \"energy_true\", \"cos_zenith_true\", \"pos_x_true\", \"pos_y_true\", \"pos_z_true\"]].duplicated().sum())\n",
    "    return df[df[[\"RunID\", \"EventID\", \"interaction_type\", \"energy_true\", \"cos_zenith_true\", \"pos_x_true\", \"pos_y_true\", \"pos_z_true\"]].duplicated()]\n",
    "\n",
    "def check_same_nnfit_reco(df):\n",
    "    print(\"Checking for same nnfit reco...\")\n",
    "    print(\"Number of events with same nnfit reco: \", df[[\"RunID\", \"EventID\", \"interaction_type\", \"energy_true\", \"cos_zenith_true\", \"pos_x_true\", \"pos_y_true\", \"pos_z_true\", \"NNFitShower_Log10Energy\", \"NNFitTrack_Log10Energy\"]].duplicated().sum())\n",
    "\n",
    "def check_same_nnfit_reco_diff_type(df):\n",
    "    print(\"Check the events with same NNFit reco, but different interaction type...\")\n",
    "    print(\"Number of events with same nnfit reco: \", df[[\"RunID\", \"EventID\", \"energy_true\", \"cos_zenith_true\", \"pos_x_true\", \"pos_y_true\", \"pos_z_true\", \"NNFitShower_Log10Energy\", \"NNFitTrack_Log10Energy\"]].duplicated().sum())"
   ]
  },
  {
   "cell_type": "code",
   "execution_count": null,
   "metadata": {},
   "outputs": [],
   "source": [
    "df = pd.read_hdf(\"../data/nutau_merged.h5\", key=\"df\")"
   ]
  },
  {
   "cell_type": "code",
   "execution_count": null,
   "metadata": {},
   "outputs": [],
   "source": [
    "check_duplicates(df)"
   ]
  },
  {
   "cell_type": "code",
   "execution_count": null,
   "metadata": {},
   "outputs": [],
   "source": [
    "duplicated_events = return_duplicates(df)\n",
    "duplicated_events.shape"
   ]
  },
  {
   "cell_type": "code",
   "execution_count": null,
   "metadata": {},
   "outputs": [],
   "source": [
    "check_same_events(duplicated_events)"
   ]
  },
  {
   "cell_type": "code",
   "execution_count": null,
   "metadata": {},
   "outputs": [],
   "source": [
    "same_events = return_same_events(duplicated_events)\n",
    "same_events.shape"
   ]
  },
  {
   "cell_type": "code",
   "execution_count": null,
   "metadata": {},
   "outputs": [],
   "source": [
    "check_interaction_type(same_events)"
   ]
  },
  {
   "cell_type": "code",
   "execution_count": null,
   "metadata": {},
   "outputs": [],
   "source": [
    "test_same = return_same_interaction_type(same_events)\n",
    "test_same.head(15)"
   ]
  },
  {
   "cell_type": "code",
   "execution_count": null,
   "metadata": {},
   "outputs": [],
   "source": [
    "check_same_nnfit_reco(test_same)"
   ]
  },
  {
   "cell_type": "code",
   "execution_count": null,
   "metadata": {},
   "outputs": [],
   "source": [
    "check_same_nnfit_reco_diff_type(same_events)"
   ]
  }
 ],
 "metadata": {
  "kernelspec": {
   "display_name": "master_thesis",
   "language": "python",
   "name": "python3"
  },
  "language_info": {
   "codemirror_mode": {
    "name": "ipython",
    "version": 3
   },
   "file_extension": ".py",
   "mimetype": "text/x-python",
   "name": "python",
   "nbconvert_exporter": "python",
   "pygments_lexer": "ipython3",
   "version": "3.9.19"
  }
 },
 "nbformat": 4,
 "nbformat_minor": 2
}
