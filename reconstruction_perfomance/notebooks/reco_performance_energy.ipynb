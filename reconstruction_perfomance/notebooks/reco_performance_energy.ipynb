{
 "cells": [
  {
   "cell_type": "code",
   "execution_count": null,
   "metadata": {},
   "outputs": [],
   "source": [
    "import pandas as pd\n",
    "import numpy as np\n",
    "import matplotlib.pyplot as plt\n",
    "import seaborn as sns\n",
    "import os\n",
    "import warnings\n",
    "from itertools import product\n",
    "import sys\n"
   ]
  },
  {
   "cell_type": "code",
   "execution_count": null,
   "metadata": {},
   "outputs": [],
   "source": [
    "sns.set(style=\"whitegrid\")"
   ]
  },
  {
   "cell_type": "code",
   "execution_count": null,
   "metadata": {},
   "outputs": [],
   "source": [
    "cluster = \"woody\"\n",
    "\n",
    "if cluster == \"woody\":\n",
    "    save_path = \"/home/saturn/capn/mppi133h/master_thesis/tau_appearance/reconstruction_perfomance/plots\"\n",
    "    sys.path.append(\"/home/saturn/capn/mppi133h/master_thesis/tau_appearance/reconstruction_perfomance\")\n",
    "    path = \"/home/wecapstor3/capn/mppi133h/ANTARES/mc\"\n",
    "elif cluster == \"lyon\":\n",
    "    save_path = \"/sps/km3net/users/mchadoli/master_thesis/tau_appearance/reconstuction_perfomance/plots/\"\n",
    "    sys.path.append(\"/sps/km3net/users/mchadoli/master_thesis/tau_appearance/reconstuction_perfomance\")\n",
    "    path = \"/sps/km3net/users/mchadoli/ANTARES/\"\n",
    "    \n",
    "\n",
    "import scripts.file_management as fm\n",
    "from scripts.lib_masks import *"
   ]
  },
  {
   "cell_type": "code",
   "execution_count": null,
   "metadata": {},
   "outputs": [],
   "source": [
    "columns_energy = [\n",
    "    \"run_id\",\n",
    "    \"frame_index\",\n",
    "    \"event_trigger_counter\",\n",
    "    \"interaction_type\",\n",
    "    \"is_cc\",\n",
    "    \"type\",\n",
    "    \"energy_true\",\n",
    "    \"cos_zenith_true\",\n",
    "    \"energy_aafit_dEdX_CEA\",\n",
    "    \"energy_aafit_ANN_ECAP\",\n",
    "    \"energy_aafit_R_Bologna\",\n",
    "    \"showerdusj_energy\",\n",
    "    \"showertantra_energy\",\n",
    "]"
   ]
  },
  {
   "cell_type": "code",
   "execution_count": null,
   "metadata": {},
   "outputs": [],
   "source": [
    "def rename_h5_df_cols(\n",
    "    df,\n",
    "    mapper={\n",
    "        \"RunID\": \"run_id\",\n",
    "        \"EventID\": \"frame_index\", \n",
    "        \"TrigCount\": \"event_trigger_counter\",\n",
    "    },\n",
    "):\n",
    "    return df.rename(columns=mapper)"
   ]
  },
  {
   "cell_type": "code",
   "execution_count": null,
   "metadata": {},
   "outputs": [],
   "source": [
    "def check_negative_energy(df, column):\n",
    "    df[column] = np.where(df[column] < 0, np.nan, df[column])"
   ]
  },
  {
   "cell_type": "code",
   "execution_count": null,
   "metadata": {},
   "outputs": [],
   "source": [
    "# Load the data\n",
    "print(\"Loading the data...\")\n",
    "\n",
    "\n",
    "# Load the dataframes\n",
    "print(\"Importing into dataframes...\")\n",
    "\n",
    "# Load nnfit reco files\n",
    "nnfit_files = fm.list_files_with_pattern(path+\"nnfit_reco\", \"*taus*\")"
   ]
  },
  {
   "cell_type": "code",
   "execution_count": null,
   "metadata": {},
   "outputs": [],
   "source": [
    "df_nnfit = fm.load_dataframes(nnfit_files, folder_path=path+\"nnfit_reco\")"
   ]
  },
  {
   "cell_type": "code",
   "execution_count": null,
   "metadata": {},
   "outputs": [],
   "source": [
    "rootfile = os.path.join(path, \"nnfit_sample/nutau.root\")\n",
    "dfnu = fm.rootfile_to_df(rootfile, columns=columns_energy)"
   ]
  },
  {
   "cell_type": "code",
   "execution_count": null,
   "metadata": {},
   "outputs": [],
   "source": [
    "dfnu_low_ma = get_low_energymask(dfnu)\n",
    "dfnu = dfnu.loc[dfnu_low_ma]"
   ]
  },
  {
   "cell_type": "code",
   "execution_count": null,
   "metadata": {},
   "outputs": [],
   "source": [
    "print(\"Renaming the columns...\")\n",
    "df_nnfit = rename_h5_df_cols(df_nnfit)"
   ]
  },
  {
   "cell_type": "code",
   "execution_count": null,
   "metadata": {},
   "outputs": [],
   "source": [
    "# Merge the two dataframes\n",
    "df = dfnu.merge(df_nnfit, on=[\"run_id\",\"frame_index\",\"event_trigger_counter\"], how=\"left\")\n",
    "\n",
    "print(\"Number of events in the merged dataframe: \", df.shape[0])\n",
    "print(\"Number of NNfit events:\", df_nnfit.shape[0])\n",
    "print(\"Number of nutau events:\", dfnu.shape[0])"
   ]
  },
  {
   "cell_type": "code",
   "execution_count": null,
   "metadata": {},
   "outputs": [],
   "source": [
    "# Create the masks for the flavour types\n",
    "df_el_ma = get_nuemask(df)\n",
    "df.loc[df_el_ma, \"Flavour type\"] = \"electron\"\n",
    "\n",
    "df_muon_ma = get_numumask(df)\n",
    "df.loc[df_muon_ma, \"Flavour type\"] = \"muon\"\n",
    "\n",
    "df_tau_ma = get_nutaumask(df)\n",
    "df.loc[df_tau_ma, \"Flavour type\"] = \"tau\""
   ]
  },
  {
   "cell_type": "code",
   "execution_count": null,
   "metadata": {},
   "outputs": [],
   "source": [
    "# Create the masks for the event types\n",
    "df_track_ma = get_trackmask(df)\n",
    "df.loc[df_track_ma, \"Event type\"] = \"tracks\"\n",
    "\n",
    "df_shower_nc_ma = get_showermask_nc(df)\n",
    "df.loc[df_shower_nc_ma, \"Event type\"] = \"showers_nc\"\n",
    "\n",
    "df_shower_cc_ma = get_showermask_cc(df)\n",
    "df.loc[df_shower_cc_ma, \"Event type\"] = \"showers_cc\""
   ]
  },
  {
   "cell_type": "code",
   "execution_count": null,
   "metadata": {},
   "outputs": [],
   "source": [
    "df[\"NNFitTrack_Energy\"] = df[\"NNFitTrack_Log10Energy\"].apply(lambda x: 10**x)\n",
    "df[\"NNFitShower_Energy\"] = df[\"NNFitShower_Log10Energy\"].apply(lambda x: 10**x)"
   ]
  },
  {
   "cell_type": "code",
   "execution_count": null,
   "metadata": {},
   "outputs": [],
   "source": [
    "def plot_energy_reco(df, \n",
    "                     recos, \n",
    "                     mask,\n",
    "                     plt_col,\n",
    "                     plt_row, \n",
    "                     bins=100, \n",
    "                     xlim=(1e1, 1e2),\n",
    "                     ylim=(10, 1e3),\n",
    "                     xlabel=\"True Energy (GeV)\", \n",
    "                     ylabel=\"Reconstructed Energy (GeV)\",\n",
    "                     path=\"/sps/km3net/users/mchadoli/tau_appearance/expected_events/plots/\"\n",
    "                     ):\n",
    "    fig, ax = plt.subplots(nrows=plt_row, ncols=plt_col, figsize=(10, 10))\n",
    "    \n",
    "    #Flatten the axis\n",
    "    ax = ax.flatten()\n",
    "    \n",
    "    for ax, reco in zip(ax, recos):\n",
    "        with warnings.catch_warnings():\n",
    "            warnings.simplefilter(\"ignore\")        \n",
    "            sns.histplot(data= df[mask][df[mask][reco]>0], x=\"energy_true\", y=reco,\n",
    "                         bins=bins, log_scale=(True,True), ax=ax, \n",
    "                         cbar=True,  cmap='viridis', cbar_kws=dict(shrink=.65),\n",
    "                         )    \n",
    "            ax.plot((0,1e2), (0,1e2), \"k--\", color=\"red\",  alpha=0.75, zorder=2, linewidth=4) \n",
    "            ax.tick_params(axis='both', which='minor', rotation= 30, labelsize=10)\n",
    "            ax.set(xlabel=None, ylabel=None)\n",
    "            ax.set_title(f\"{reco}\", fontsize=22)\n",
    "            if xlim:\n",
    "                ax.set_xlim(xlim)\n",
    "            if ylim:\n",
    "                ax.set_ylim(ylim)\n",
    "    fig.suptitle(f\"True vs Reco for {df[mask]['Event type'].unique()[0]}\", fontsize=24)\n",
    "    fig.supxlabel(xlabel, fontsize=22)\n",
    "    fig.supylabel(ylabel, fontsize=22)\n",
    "    fig.tight_layout()\n",
    "    fig.savefig(os.path.join(path, f\"{df[mask]['Event type'].unique()[0]}_energy_reco_2dhisto.png\"))"
   ]
  },
  {
   "cell_type": "code",
   "execution_count": null,
   "metadata": {},
   "outputs": [],
   "source": [
    "# Plotting for the track events\n",
    "\n",
    "reco = [\"energy_aafit_dEdX_CEA\",\n",
    "        \"energy_aafit_ANN_ECAP\",\n",
    "        \"NNFitTrack_Energy\",\n",
    "        \"NNFitShower_Energy\",\n",
    "        ]\n",
    "\n",
    "plot_energy_reco(df, reco, df_track_ma, 2, 2)"
   ]
  },
  {
   "cell_type": "code",
   "execution_count": null,
   "metadata": {},
   "outputs": [],
   "source": [
    "# Plotting for the shower events\n",
    "reco = [\"energy_aafit_dEdX_CEA\",\n",
    "        \"energy_aafit_ANN_ECAP\",\n",
    "        \"NNFitTrack_Energy\",\n",
    "        \"NNFitShower_Energy\",\n",
    "        ]\n",
    "\n",
    "plot_energy_reco(df, reco, df_shower_cc_ma, 2, 2)"
   ]
  },
  {
   "cell_type": "code",
   "execution_count": null,
   "metadata": {},
   "outputs": [],
   "source": [
    "recos = [\"energy_aafit_dEdX_CEA\",\n",
    "        \"energy_aafit_ANN_ECAP\",\n",
    "        \"NNFitTrack_Energy\",\n",
    "        \"NNFitShower_Energy\",\n",
    "        ]\n",
    "\n",
    "\n",
    "plot_energy_reco(df, reco, df_shower_nc_ma, 2, 2)"
   ]
  },
  {
   "cell_type": "code",
   "execution_count": null,
   "metadata": {},
   "outputs": [],
   "source": [
    "# Calculate the relative error of the energy\n",
    "track_energy_reco = [\"energy_aafit_dEdX_CEA\", \"energy_aafit_ANN_ECAP\", \"NNFitTrack_Energy\"]\n",
    "shower_energy_reco = [\"showerdusj_energy\", \"showertantra_energy\", \"NNFitShower_Energy\"]\n",
    "\n",
    "for algo in track_energy_reco + shower_energy_reco:        \n",
    "    df[f\"{algo}_relative_error\"] = abs(df[f\"{algo}\"] - df[\"energy_true\"])/df[\"energy_true\"]"
   ]
  },
  {
   "cell_type": "code",
   "execution_count": null,
   "metadata": {},
   "outputs": [],
   "source": [
    "# Create the true energy bins\n",
    "energy_true_bins = np.linspace(10, 100, 25)\n",
    "df[\"energy_true_bins\"] = pd.cut(df[\"energy_true\"], bins=energy_true_bins)"
   ]
  },
  {
   "cell_type": "code",
   "execution_count": null,
   "metadata": {},
   "outputs": [],
   "source": [
    "def calculate_energy_reco_median(df, reco, energy_bins):\n",
    "    return df.groupby(\"energy_true_bins\")[reco].median().reset_index()"
   ]
  },
  {
   "cell_type": "code",
   "execution_count": null,
   "metadata": {},
   "outputs": [],
   "source": [
    "# Create the median error dataframe\n",
    "mean_error = pd.DataFrame()\n",
    "\n",
    "columns_errors = [\"median_error_nnfit_track\", \"median_error_nnfit_shower\", \"median_error_aafit_dEdX_CEA\", \"median_error_aafit_ANN_ECAP\", \"median_error_showerdusj_energy\", \"median_error_showertantra_energy\"]\n",
    "df_cols = [\"NNFitTrack_Energy_relative_error\", \"NNFitShower_Energy_relative_error\", \"energy_aafit_dEdX_CEA_relative_error\", \"energy_aafit_ANN_ECAP_relative_error\", \"showerdusj_energy_relative_error\", \"showertantra_energy_relative_error\"]\n",
    "\n",
    "dfs = df[(df[\"Flavour type\"] == \"tau\") & (df[\"Event type\"] == \"showers_cc\")]\n",
    "\n",
    "# Group the data by the true energy bins\n",
    "with warnings.catch_warnings():\n",
    "    warnings.simplefilter(\"ignore\")   \n",
    "    for col, df_col in zip(columns_errors, df_cols):\n",
    "        mean_error[col] = dfs.groupby(\"energy_true_bins\")[df_col].median()\n",
    "\n",
    "energy_true_bins_midpoints = dfs[\"energy_true_bins\"].apply(lambda x: x.mid).unique()\n",
    "\n",
    "midpoints = [(energy_true_bins[i] + energy_true_bins[i + 1]) / 2 for i in range(len(energy_true_bins) - 1)]\n",
    "mean_error[\"midpoints\"] = midpoints\n",
    "mean_error.reset_index(inplace=True)\n",
    "mean_error.head()\n"
   ]
  },
  {
   "cell_type": "code",
   "execution_count": null,
   "metadata": {},
   "outputs": [],
   "source": [
    "fig, ax = plt.subplots(figsize=(20, 10), sharex=True)\n",
    "with warnings.catch_warnings():\n",
    "    warnings.simplefilter(\"ignore\")        \n",
    "    for col in columns_errors:\n",
    "        sns.lineplot(data=mean_error, x=midpoints, y=mean_error[col],  marker=\"o\", markersize=10, linestyle=\"-\", ax=ax)\n",
    "    ax.set_ylabel(r\"$\\frac{|E_{rec} - E_{true}|}{E_{true}}$\", fontsize=24)\n",
    "    ax.set_xlabel(\"True energy (GeV)\", fontsize=24)\n",
    "    ax.set_title(\"Median absolute relative error for energy reconstructions\", fontsize=24)\n",
    "    #sns.move_legend(ax, \"upper right\", bbox_to_anchor=(1.5, .7), fontsize=15)   \n",
    "    fig.tight_layout()\n",
    "    fig.show()\n",
    "fig.savefig(os.path.join(save_path, \"median_absolute_relative_error.png\"))"
   ]
  },
  {
   "cell_type": "code",
   "execution_count": null,
   "metadata": {},
   "outputs": [],
   "source": [
    "# Calculate the relative error of the energy\n",
    "\n",
    "recos = [\"NNFitTrack_Log10Energy\",\n",
    "         \"NNFitShower_Log10Energy\"\n",
    "        ]\n",
    "\n",
    "for reco in recos:\n",
    "    df[f\"{reco}_resolution\"] = (df[reco] - df[\"energy_true\"].apply(np.log10))"
   ]
  },
  {
   "cell_type": "code",
   "execution_count": null,
   "metadata": {},
   "outputs": [],
   "source": [
    "comb = list(product(recos, df[\"Event type\"].unique()))"
   ]
  }
 ],
 "metadata": {
  "kernelspec": {
   "display_name": "km3net-conda",
   "language": "python",
   "name": "python3"
  },
  "language_info": {
   "codemirror_mode": {
    "name": "ipython",
    "version": 3
   },
   "file_extension": ".py",
   "mimetype": "text/x-python",
   "name": "python",
   "nbconvert_exporter": "python",
   "pygments_lexer": "ipython3",
   "version": "3.9.18"
  }
 },
 "nbformat": 4,
 "nbformat_minor": 2
}
