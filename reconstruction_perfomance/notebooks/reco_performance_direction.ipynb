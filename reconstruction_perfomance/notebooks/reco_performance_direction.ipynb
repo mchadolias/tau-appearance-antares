{
 "cells": [
  {
   "cell_type": "code",
   "execution_count": 1,
   "metadata": {},
   "outputs": [],
   "source": [
    "import pandas as pd\n",
    "import numpy as np\n",
    "import matplotlib.pyplot as plt\n",
    "import seaborn as sns\n",
    "import os\n",
    "import warnings\n",
    "from itertools import product\n",
    "import sys"
   ]
  },
  {
   "cell_type": "code",
   "execution_count": 2,
   "metadata": {},
   "outputs": [],
   "source": [
    "plt.rcParams['figure.dpi'] = 100\n",
    "plt.rcParams['savefig.dpi'] = 1000\n",
    "sns.set(style=\"whitegrid\")\n"
   ]
  },
  {
   "cell_type": "code",
   "execution_count": 3,
   "metadata": {},
   "outputs": [],
   "source": [
    "cluster = \"woody\"\n",
    "\n",
    "if cluster == \"woody\":\n",
    "    save_path = \"/home/saturn/capn/mppi133h/master_thesis/tau_appearance/reconstruction_perfomance/plots\"\n",
    "    sys.path.append(\"/home/saturn/capn/mppi133h/master_thesis/tau_appearance/reconstruction_perfomance\")\n",
    "    path = \"/home/wecapstor3/capn/mppi133h/ANTARES/mc\"\n",
    "elif cluster == \"lyon\":\n",
    "    save_path = \"/sps/km3net/users/mchadoli/master_thesis/tau_appearance/reconstuction_perfomance/plots/\"\n",
    "    sys.path.append(\"/sps/km3net/users/mchadoli/master_thesis/tau_appearance/reconstuction_perfomance\")\n",
    "    path = \"/sps/km3net/users/mchadoli/ANTARES/\"\n",
    "    \n",
    "\n",
    "import scripts.file_management as fm\n",
    "from scripts.lib_masks import *"
   ]
  },
  {
   "cell_type": "code",
   "execution_count": null,
   "metadata": {},
   "outputs": [],
   "source": [
    "columns_dir = [\n",
    "    \"run_id\",\n",
    "    \"frame_index\",\n",
    "    \"event_trigger_counter\",\n",
    "    \"interaction_type\",\n",
    "    \"is_cc\",\n",
    "    \"type\",\n",
    "    \"cos_zenith_true\",\n",
    "    \"energy_true\",\n",
    "    \"aafit_cos_zenith\",\n",
    "    \"bbfit_cos_zenith\",\n",
    "    \"gridfit_cos_zenith\",\n",
    "    \"showertantra_cos_zenith\",\n",
    "    \"showerdusj_cos_zenith\"\n",
    "]"
   ]
  },
  {
   "cell_type": "code",
   "execution_count": null,
   "metadata": {},
   "outputs": [],
   "source": [
    "# Load the data\n",
    "print(\"Loading the data...\")\n",
    "\n",
    "## Load the dataframes\n",
    "print(\"Importing into dataframes...\")\n",
    "\n",
    "# Load nnfit reco files\n",
    "nnfit_files = fm.list_files_with_pattern(path+\"nnfit_reco\", \"*taus*\")\n",
    "df_nnfit = fm.load_dataframes(nnfit_files, folder_path=path+\"nnfit_reco\")"
   ]
  },
  {
   "cell_type": "code",
   "execution_count": null,
   "metadata": {},
   "outputs": [],
   "source": [
    "rootfile = os.path.join(path, \"nnfit_sample/nutau.root\")\n",
    "dfnu = fm.rootfile_to_df(rootfile, columns=columns_dir)\n",
    "dfnu_low_ma = get_low_energymask(dfnu)\n",
    "dfnu_up_ma = get_upgoingmask(dfnu)\n",
    "dfnu = dfnu.loc[dfnu_low_ma]\n",
    "dfnu = dfnu.loc[dfnu_up_ma]"
   ]
  },
  {
   "cell_type": "code",
   "execution_count": null,
   "metadata": {},
   "outputs": [],
   "source": [
    "print(\"Renaming the columns...\")\n",
    "df_nnfit = fm.rename_h5_df_cols(df_nnfit)"
   ]
  },
  {
   "cell_type": "code",
   "execution_count": null,
   "metadata": {},
   "outputs": [],
   "source": [
    "# Merge the two dataframes\n",
    "df = dfnu.merge(df_nnfit, on=[\"run_id\",\"frame_index\",\"event_trigger_counter\"], how=\"left\")\n",
    "\n",
    "print(\"Number of events in the merged dataframe: \", df.shape[0])\n",
    "print(\"Number of NNfit events:\", df_nnfit.shape[0])\n",
    "print(\"Number of nutau events:\", dfnu.shape[0])"
   ]
  },
  {
   "cell_type": "code",
   "execution_count": null,
   "metadata": {},
   "outputs": [],
   "source": [
    "del df_nnfit, dfnu"
   ]
  },
  {
   "cell_type": "code",
   "execution_count": null,
   "metadata": {},
   "outputs": [],
   "source": [
    "def cos_zenith_from_theta(df, reco_algo):\n",
    "    return df[reco_algo].apply(lambda x: -np.cos(np.radians(x)))"
   ]
  },
  {
   "cell_type": "code",
   "execution_count": null,
   "metadata": {},
   "outputs": [],
   "source": [
    "df[\"NNFitTrack_cos_zenith\"] = cos_zenith_from_theta(df, \"NNFitTrack_Theta\")\n",
    "df[\"NNFitShower_cos_zenith\"] = cos_zenith_from_theta(df, \"NNFitShower_Theta\")"
   ]
  },
  {
   "cell_type": "code",
   "execution_count": null,
   "metadata": {},
   "outputs": [],
   "source": [
    "# Create the masks for the event types\n",
    "df_track_ma = get_trackmask(df)\n",
    "df.loc[df_track_ma, \"Event type\"] = \"tracks\"\n",
    "\n",
    "df_shower_nc_ma = get_showermask_nc(df)\n",
    "df.loc[df_shower_nc_ma, \"Event type\"] = \"showers_nc\"\n",
    "\n",
    "df_shower_cc_ma = get_showermask_cc(df)\n",
    "df.loc[df_shower_cc_ma, \"Event type\"] = \"showers_cc\"\n",
    "\n",
    "# Create the masks for the flavour types\n",
    "df_el_ma = get_nuemask(df)\n",
    "df.loc[df_el_ma, \"Flavour type\"] = \"electron\"\n",
    "\n",
    "df_muon_ma = get_numumask(df)\n",
    "df.loc[df_muon_ma, \"Flavour type\"] = \"muon\"\n",
    "\n",
    "df_tau_ma = get_nutaumask(df)\n",
    "df.loc[df_tau_ma, \"Flavour type\"] = \"tau\""
   ]
  },
  {
   "cell_type": "code",
   "execution_count": null,
   "metadata": {},
   "outputs": [],
   "source": [
    "def plot_cos_zenith(df, reco_algo, mask, path = \"/sps/km3net/users/mchadoli/tau_appearance/expected_events/plots/\"):\n",
    "    xlabel = \"True cos(zenith)\"\n",
    "    ylabel = \"Reco cos(zenith)\"\n",
    "    bins = (50,50)\n",
    "\n",
    "    fig, axs = plt.subplots(nrows=3, ncols=2, figsize=(20, 10))\n",
    "    # Flatten the axs array to make it easier to iterate over\n",
    "    axs = axs.flatten()\n",
    "\n",
    "    for ax, reco in zip(axs, reco_algo):\n",
    "        with warnings.catch_warnings():\n",
    "            warnings.simplefilter(\"ignore\")\n",
    "            sns.histplot(data=df[mask], x=\"cos_zenith_true\", y=f\"{reco}\", \n",
    "                    bins=bins, ax=ax,\n",
    "                    cbar=True, cmap = \"viridis\", cbar_kws=dict(shrink=.65),\n",
    "                    )\n",
    "            ax.set(xlabel=None, ylabel=None, ylim=(-1,0))\n",
    "            ax.set_title(reco, fontsize=24) \n",
    "            ax.plot((-1, 0), (-1, 0), \"k--\", color=\"red\", alpha=0.75, zorder=2) \n",
    "    fig.suptitle(f\"True vs Reco for {df[mask]['Event type'].unique()[0]}\", fontsize=24)\n",
    "    fig.supxlabel(xlabel, fontsize=20)\n",
    "    fig.supylabel(ylabel, fontsize=20)\n",
    "    fig.tight_layout()\n",
    "    fig.savefig(os.path.join(save_path,f\"{df[mask]['Event type'].unique()[0]}_dir_reco_2dhisto.png\"))"
   ]
  },
  {
   "cell_type": "code",
   "execution_count": null,
   "metadata": {},
   "outputs": [],
   "source": [
    "dir_reco = [\"NNFitTrack_cos_zenith\", \"NNFitShower_cos_zenith\", \"aafit_cos_zenith\", \"bbfit_cos_zenith\", \"gridfit_cos_zenith\", \"showertantra_cos_zenith\"]"
   ]
  },
  {
   "cell_type": "code",
   "execution_count": null,
   "metadata": {},
   "outputs": [],
   "source": [
    "plot_cos_zenith(df, dir_reco, df_track_ma)"
   ]
  },
  {
   "cell_type": "code",
   "execution_count": null,
   "metadata": {},
   "outputs": [],
   "source": [
    "plot_cos_zenith(df, dir_reco, df_shower_cc_ma)"
   ]
  },
  {
   "cell_type": "code",
   "execution_count": null,
   "metadata": {},
   "outputs": [],
   "source": [
    "plot_cos_zenith(df, dir_reco, df_shower_nc_ma)"
   ]
  },
  {
   "cell_type": "code",
   "execution_count": null,
   "metadata": {},
   "outputs": [],
   "source": [
    "recos = [\"aafit\", \n",
    "        \"bbfit\",\n",
    "        \"gridfit\",\n",
    "        \"showertantra\",\n",
    "        \"NNFitTrack\",\n",
    "        \"NNFitShower\",\n",
    "         ]\n",
    "\n",
    "df[\"theta_True\"] = np.degrees(np.arccos(- df[\"cos_zenith_true\"]))\n",
    "for reco in recos:\n",
    "    print(f\"Calculating the zenith angle of {reco.ljust(15)}\") \n",
    "    df[f\"{reco}_Theta\"] = np.degrees(np.arccos(- df[f\"{reco}_cos_zenith\"]))      \n",
    "    print(\"Calculating the absolute error column for \", reco, \"\\n\")\n",
    "    df[f\"{reco}_theta_diff\"] = np.abs(df[f\"{reco}_Theta\"] - df[\"theta_True\"])"
   ]
  },
  {
   "cell_type": "code",
   "execution_count": null,
   "metadata": {},
   "outputs": [],
   "source": [
    "def calculate_stats(df, reco, classfication=\"Event type\"):\n",
    "    return df.groupby(classfication)[f\"{reco}_theta_diff\"].mean(), df.groupby(classfication)[f\"{reco}_theta_diff\"].median()"
   ]
  },
  {
   "cell_type": "code",
   "execution_count": null,
   "metadata": {},
   "outputs": [],
   "source": [
    "def hist_2d(\n",
    "  df,\n",
    "  ax,\n",
    "  y_data = \"cos_zenith_true\",\n",
    "  x_data = \"energy_true\",\n",
    "  ylabel = \"cos(zenith)\",\n",
    "  xlabel = \"Energy (GeV)\",\n",
    "  title = \"test\",\n",
    "  bins = (50,50),\n",
    "  mask = None,\n",
    "):\n",
    "    sns.histplot(\n",
    "        data=df[mask],\n",
    "        x=x_data,\n",
    "        y=y_data,\n",
    "        bins=bins,\n",
    "        cbar=True,\n",
    "        cmap=\"viridis\",\n",
    "        cbar_kws=dict(shrink=0.65),\n",
    "        ax=ax,\n",
    "    )\n",
    "    \n",
    "    ax.set_title(title, fontsize=24)\n",
    "    ax.set_xlabel(xlabel, fontsize=20)\n",
    "    ax.set_ylabel(ylabel, fontsize=20)\n",
    "    ax.set_xlim(0, 100)\n",
    "    ax.set_ylim(-1, 0)\n",
    "    \n",
    "    return ax"
   ]
  },
  {
   "cell_type": "code",
   "execution_count": null,
   "metadata": {},
   "outputs": [],
   "source": [
    "\n",
    "recos = [\"aafit\", \n",
    "        \"bbfit\",\n",
    "        \"gridfit\",\n",
    "        \"showertantra\",\n",
    "        \"NNFitTrack\",\n",
    "        \"NNFitShower\",\n",
    "         ]\n",
    "\n",
    "fig, axs = plt.subplots(nrows=3, ncols=2, figsize=(12, 12))\n",
    "# Flatten the axs array to make it easier to iterate over\n",
    "axs = axs.flatten()\n",
    "\n",
    "# Define custom color palette\n",
    "custom_palette = {\"tracks\": \"blue\", \"showers_nc\": \"green\", \"showers_cc\": \"red\"}\n",
    "\n",
    "\n",
    "with warnings.catch_warnings():\n",
    "    warnings.simplefilter(\"ignore\")\n",
    "    for ax, reco in zip(axs, recos):\n",
    "        sns.kdeplot(data=df, x=f\"{reco}_theta_diff\",\n",
    "                    hue=\"Event type\", common_norm=False,\n",
    "                    palette=custom_palette, \n",
    "                    fill=True, \n",
    "                    multiple=\"layer\", ax=ax)\n",
    "        mean, median = calculate_stats(df, reco)\n",
    "        for event_type in df[\"Event type\"].unique():\n",
    "            print(f\"Calculating the stats for {reco} and {event_type}\")\n",
    "            ax.axvline(mean[f\"{event_type}\"], color=custom_palette[f\"{event_type}\"], linestyle=\"--\", label=f\"{event_type} mean\")\n",
    "            ax.axvline(median[f\"{event_type}\"], color=custom_palette[f\"{event_type}\"], linestyle=\"-\", label=f\"{event_type} median\")\n",
    "        ax.set(xlabel=None, ylabel=None, xlim=(0, 100))\n",
    "        ax.set_title(f\"Absolute error distribution for {reco}\", fontsize=14)\n",
    "    fig.suptitle(\"Absolute error distribution for reco algorithms\", fontsize=16)\n",
    "    fig.supxlabel(r\"$|\\theta_{reco}-\\theta_{true}| (\\degree)$\", fontsize=14)\n",
    "    fig.supylabel(\"Density\", fontsize=14)\n",
    "    fig.tight_layout()\n",
    "    fig.savefig(\"/sps/km3net/users/mchadoli/tau_appearance/expected_events/plots/abs_error_dir_recos_kde_2.png\")\n"
   ]
  }
 ],
 "metadata": {
  "kernelspec": {
   "display_name": "km3net-conda",
   "language": "python",
   "name": "python3"
  },
  "language_info": {
   "codemirror_mode": {
    "name": "ipython",
    "version": 3
   },
   "file_extension": ".py",
   "mimetype": "text/x-python",
   "name": "python",
   "nbconvert_exporter": "python",
   "pygments_lexer": "ipython3",
   "version": "3.9.19"
  }
 },
 "nbformat": 4,
 "nbformat_minor": 2
}
