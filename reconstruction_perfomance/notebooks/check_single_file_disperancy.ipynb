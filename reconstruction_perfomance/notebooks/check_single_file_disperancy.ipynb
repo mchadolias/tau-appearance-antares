{
 "cells": [
  {
   "cell_type": "code",
   "execution_count": null,
   "metadata": {},
   "outputs": [],
   "source": [
    "import pandas as pd \n",
    "import sys\n",
    "import os\n",
    "sys.path.append('..')\n",
    "from scripts.file_management import rename_h5_df_cols, rootfile_to_df"
   ]
  },
  {
   "cell_type": "code",
   "execution_count": null,
   "metadata": {},
   "outputs": [],
   "source": [
    "COLUMNS = [\n",
    "        \"RunID\",\n",
    "        \"EventID\",\n",
    "        \"TriggCounter\",\n",
    "        \"Frame\",\n",
    "        \"interaction_type\",\n",
    "        \"is_cc\",\n",
    "        \"Type\",\n",
    "        \"bbfit_zenith_deg\",\n",
    "        \"bbfit_azimuth_deg\",\n",
    "        \"bbfit_flag\",\n",
    "]"
   ]
  },
  {
   "cell_type": "code",
   "execution_count": null,
   "metadata": {},
   "outputs": [],
   "source": [
    "path = \"/home/saturn/capn/mppi133h/master_thesis/tau_appearance/reconstruction_perfomance/data/Comparison/\""
   ]
  },
  {
   "cell_type": "code",
   "execution_count": null,
   "metadata": {},
   "outputs": [],
   "source": [
    "files = os.listdir(path)\n",
    "files_nnfit = [f for f in files if f.endswith(\".hdf5\")]\n",
    "files_antdst = [f for f in files if f.endswith(\".root\")]"
   ]
  },
  {
   "cell_type": "markdown",
   "metadata": {},
   "source": [
    "## NNFit File to compare"
   ]
  },
  {
   "cell_type": "code",
   "execution_count": null,
   "metadata": {},
   "outputs": [],
   "source": [
    "df_nnfit = pd.read_hdf(os.path.join(path, files_nnfit[0]))"
   ]
  },
  {
   "cell_type": "markdown",
   "metadata": {},
   "source": [
    "## AntDST extracted file "
   ]
  },
  {
   "cell_type": "code",
   "execution_count": null,
   "metadata": {},
   "outputs": [],
   "source": [
    "df_root = rootfile_to_df(os.path.join(path, files_antdst[0]), COLUMNS)"
   ]
  },
  {
   "cell_type": "code",
   "execution_count": null,
   "metadata": {},
   "outputs": [],
   "source": [
    "df_root.shape[0] -df_root[\"bbfit_azimuth_deg\"].isna().sum()"
   ]
  },
  {
   "cell_type": "code",
   "execution_count": null,
   "metadata": {},
   "outputs": [],
   "source": [
    "df_nnfit = rename_h5_df_cols(df_nnfit)"
   ]
  },
  {
   "cell_type": "code",
   "execution_count": null,
   "metadata": {},
   "outputs": [],
   "source": [
    "df_merged = pd.merge(df_root, df_nnfit, on=[\"RunID\", \"TriggCounter\", \"Frame\"], how=\"left\") \n",
    "df_merged"
   ]
  },
  {
   "cell_type": "code",
   "execution_count": null,
   "metadata": {},
   "outputs": [],
   "source": [
    "def find_missing_events(df):\n",
    "    return df[(df[\"bbfit_zenith_deg\"].notna()) & (df[\"bbfit_azimuth_deg\"].isna())] "
   ]
  },
  {
   "cell_type": "code",
   "execution_count": null,
   "metadata": {},
   "outputs": [],
   "source": [
    "single_line = find_missing_events(df_merged)\n",
    "single_line.shape"
   ]
  },
  {
   "cell_type": "code",
   "execution_count": null,
   "metadata": {},
   "outputs": [],
   "source": [
    "df_merged[\"bbfit_flag\"][df_merged[\"bbfit_flag\"] == True].count() - df_merged[\"bbfit_azimuth_deg\"][df_merged[\"bbfit_azimuth_deg\"].notna()].count()"
   ]
  },
  {
   "cell_type": "markdown",
   "metadata": {},
   "source": [
    "For this case: all the single line events where reconstructed"
   ]
  }
 ],
 "metadata": {
  "kernelspec": {
   "display_name": "master_thesis",
   "language": "python",
   "name": "python3"
  },
  "language_info": {
   "codemirror_mode": {
    "name": "ipython",
    "version": 3
   },
   "file_extension": ".py",
   "mimetype": "text/x-python",
   "name": "python",
   "nbconvert_exporter": "python",
   "pygments_lexer": "ipython3",
   "version": "3.9.19"
  }
 },
 "nbformat": 4,
 "nbformat_minor": 2
}
