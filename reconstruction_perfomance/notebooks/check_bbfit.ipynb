{
 "cells": [
  {
   "cell_type": "code",
   "execution_count": null,
   "metadata": {},
   "outputs": [],
   "source": [
    "import pandas as pd\n",
    "import numpy as np\n",
    "import os\n",
    "import sys\n",
    "sys.path.append(\"../scripts\")\n",
    "import file_management as fm\n",
    "import lib_masks as masks"
   ]
  },
  {
   "cell_type": "markdown",
   "metadata": {},
   "source": [
    "### NNFit precut from [wiki](http://antares-wiki.in2p3.fr/doku.php?id=nnfit)"
   ]
  },
  {
   "cell_type": "code",
   "execution_count": null,
   "metadata": {},
   "outputs": [],
   "source": [
    "def nnfit_precut(df):    \n",
    "    cut_r_closest = df['NNFitShower_RVertex'] < 50\n",
    "    cut_z_closest = np.abs(df['NNFitShower_ZVertex']) < 150\n",
    "    cut_sigma_dir = df['NNFitShower_SigmaTheta'] < 14.9\n",
    "    \n",
    "    return cut_r_closest & cut_z_closest & cut_sigma_dir"
   ]
  },
  {
   "cell_type": "code",
   "execution_count": null,
   "metadata": {},
   "outputs": [],
   "source": [
    "def is_bbfit_reconstructed(df):\n",
    "    return df['bbfit_flag'] == True"
   ]
  },
  {
   "cell_type": "code",
   "execution_count": null,
   "metadata": {},
   "outputs": [],
   "source": [
    "def is_bbfit_single_line_event(df):\n",
    "    return (df['bbfit_zenith_deg'].notna()) & (df['bbfit_azimuth_deg'].isna())"
   ]
  },
  {
   "cell_type": "code",
   "execution_count": null,
   "metadata": {},
   "outputs": [],
   "source": [
    "def not_reconstructed_by_nnfit(df):\n",
    "    return df['NNFitShower_RVertex'].isna()"
   ]
  },
  {
   "cell_type": "markdown",
   "metadata": {},
   "source": [
    "## Check which columns you want to add"
   ]
  },
  {
   "cell_type": "code",
   "execution_count": null,
   "metadata": {},
   "outputs": [],
   "source": [
    "COLUMNS = [\n",
    "        \"RunID\",\n",
    "        \"EventID\",\n",
    "        \"TriggCounter\",\n",
    "        \"Frame\",\n",
    "        \"interaction_type\",\n",
    "        \"is_cc\",\n",
    "        \"Type\",\n",
    "        \"bbfit_flag\",\n",
    "        \"bbfit_zenith_deg\",\n",
    "        \"bbfit_azimuth_deg\"\n",
    "    ]"
   ]
  },
  {
   "cell_type": "markdown",
   "metadata": {},
   "source": [
    "## Add the extracted AntDST files "
   ]
  },
  {
   "cell_type": "code",
   "execution_count": null,
   "metadata": {},
   "outputs": [],
   "source": [
    "cluster = \"woody\"\n",
    "\n",
    "if cluster == \"woody\":\n",
    "    path = \"/home/wecapstor3/capn/mppi133h/ANTARES/mc/cut_selection/low_energy\"\n",
    "elif cluster == \"cca\":\n",
    "    path = \"/home/sps/km3net/users/mchadoli/ANTARES/low_energy\""
   ]
  },
  {
   "cell_type": "code",
   "execution_count": null,
   "metadata": {},
   "outputs": [],
   "source": [
    "df = fm.rootfile_to_df(os.path.join(path,\"full_nutau_sample.root\"), columns = COLUMNS)"
   ]
  },
  {
   "cell_type": "markdown",
   "metadata": {},
   "source": [
    "## Load the NNFit files"
   ]
  },
  {
   "cell_type": "code",
   "execution_count": null,
   "metadata": {},
   "outputs": [],
   "source": [
    "nnfit_path = \"/home/wecapstor3/capn/mppi133h/ANTARES/mc/nnfit_reco/\"\n",
    "\n",
    "# Load nnfit reco files\n",
    "nnfit_files = fm.list_files_with_pattern(nnfit_path, f\"*taus*\")\n",
    "\n",
    "df_nnfit = fm.load_dataframes(nnfit_files, folder_path= nnfit_path)"
   ]
  },
  {
   "cell_type": "code",
   "execution_count": null,
   "metadata": {},
   "outputs": [],
   "source": [
    "def rename_h5_df_cols(\n",
    "    df,\n",
    "    mapper={\n",
    "        \"TrigCount\": \"TriggCounter\",\n",
    "        \"EventID\": \"Frame\",\n",
    "    },\n",
    "):\n",
    "    return df.rename(columns=mapper)"
   ]
  },
  {
   "cell_type": "markdown",
   "metadata": {},
   "source": [
    "## Merge the two dataframes"
   ]
  },
  {
   "cell_type": "code",
   "execution_count": null,
   "metadata": {},
   "outputs": [],
   "source": [
    "print(\"Renaming the columns...\")\n",
    "df_nnfit = rename_h5_df_cols(df_nnfit)\n",
    "\n",
    "df_merged = df.merge(df_nnfit, on=[\"RunID\",\"Frame\",\"TriggCounter\"], how=\"left\")\n",
    "\n",
    "print(\"Number of events in the merged dataframe: \", df_merged.shape[0])\n",
    "print(\"Number of NNfit events:\", df_nnfit.shape[0])\n",
    "print(\"Number of nutau events:\", df.shape[0])"
   ]
  },
  {
   "cell_type": "code",
   "execution_count": null,
   "metadata": {},
   "outputs": [],
   "source": [
    "total_events = df_merged.shape[0]\n",
    "total_events"
   ]
  },
  {
   "cell_type": "markdown",
   "metadata": {},
   "source": [
    "### Clean events not reconstructed by BBFit"
   ]
  },
  {
   "cell_type": "code",
   "execution_count": null,
   "metadata": {},
   "outputs": [],
   "source": [
    "df_merged = df_merged[is_bbfit_reconstructed(df_merged)]"
   ]
  },
  {
   "cell_type": "code",
   "execution_count": null,
   "metadata": {},
   "outputs": [],
   "source": [
    "print(\"Number of events after bbfit reconstruction: \", df_merged.shape[0])\n",
    "print(\"Percentage from total generated events: \", df_merged.shape[0]/total_events * 100)"
   ]
  },
  {
   "cell_type": "code",
   "execution_count": null,
   "metadata": {},
   "outputs": [],
   "source": [
    "print(\"Number of single line events: \", df_merged[is_bbfit_single_line_event(df_merged)].shape[0])\n",
    "print(\"Percentage from total generated events: \", df_merged[is_bbfit_single_line_event(df_merged)].shape[0]/total_events * 100)"
   ]
  },
  {
   "cell_type": "code",
   "execution_count": null,
   "metadata": {},
   "outputs": [],
   "source": [
    "single_line_events = df_merged[is_bbfit_single_line_event(df_merged)]"
   ]
  },
  {
   "cell_type": "code",
   "execution_count": null,
   "metadata": {},
   "outputs": [],
   "source": [
    "single_line_events.head(15)"
   ]
  },
  {
   "cell_type": "code",
   "execution_count": null,
   "metadata": {},
   "outputs": [],
   "source": [
    "missing_events = single_line_events[not_reconstructed_by_nnfit(single_line_events)]"
   ]
  },
  {
   "cell_type": "code",
   "execution_count": null,
   "metadata": {},
   "outputs": [],
   "source": [
    "missing_events.head(15)"
   ]
  }
 ],
 "metadata": {
  "kernelspec": {
   "display_name": "master_thesis",
   "language": "python",
   "name": "python3"
  },
  "language_info": {
   "codemirror_mode": {
    "name": "ipython",
    "version": 3
   },
   "file_extension": ".py",
   "mimetype": "text/x-python",
   "name": "python",
   "nbconvert_exporter": "python",
   "pygments_lexer": "ipython3",
   "version": "3.9.19"
  }
 },
 "nbformat": 4,
 "nbformat_minor": 2
}
