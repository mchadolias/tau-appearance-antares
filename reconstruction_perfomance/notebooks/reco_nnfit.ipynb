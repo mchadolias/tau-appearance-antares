{
 "cells": [
  {
   "cell_type": "code",
   "execution_count": null,
   "metadata": {},
   "outputs": [],
   "source": [
    "import pandas as pd\n",
    "import numpy as np\n",
    "import matplotlib.pyplot as plt\n",
    "import seaborn as sns\n",
    "import os\n",
    "import warnings\n",
    "from itertools import product\n",
    "from scipy import stats\n",
    "import histlite as hl\n",
    "import sys"
   ]
  },
  {
   "cell_type": "code",
   "execution_count": null,
   "metadata": {},
   "outputs": [],
   "source": [
    "import matplotlib.style as style\n",
    "#style.use('tableau-colorblind10')\n",
    "style.use('seaborn-v0_8-bright')\n",
    "sns.set(style=\"ticks\")"
   ]
  },
  {
   "cell_type": "code",
   "execution_count": null,
   "metadata": {},
   "outputs": [],
   "source": [
    "cluster = \"woody\"\n",
    "\n",
    "if cluster == \"woody\":\n",
    "    save_path = \"/home/saturn/capn/mppi133h/master_thesis/tau_appearance/reconstruction_perfomance/plots\"\n",
    "    sys.path.append(\"/home/saturn/capn/mppi133h/master_thesis/tau_appearance/reconstruction_perfomance\")\n",
    "    path = \"/home/wecapstor3/capn/mppi133h/ANTARES/mc\"\n",
    "elif cluster == \"lyon\":\n",
    "    save_path = \"/sps/km3net/users/mchadoli/master_thesis/tau_appearance/reconstuction_perfomance/plots/\"\n",
    "    sys.path.append(\"/sps/km3net/users/mchadoli/master_thesis/tau_appearance/reconstuction_perfomance\")\n",
    "    path = \"/sps/km3net/users/mchadoli/ANTARES/\"\n",
    "    \n",
    "\n",
    "import scripts.file_management as fm\n",
    "from scripts.lib_masks import *"
   ]
  },
  {
   "cell_type": "code",
   "execution_count": null,
   "metadata": {},
   "outputs": [],
   "source": [
    "normal_size = (15, 10)\n",
    "#plt.rcParams['figure.dpi'] = 100\n",
    "plt.rcParams['savefig.dpi'] = 1000"
   ]
  },
  {
   "cell_type": "code",
   "execution_count": null,
   "metadata": {},
   "outputs": [],
   "source": [
    "# Set the font dictionaries (for plot title and axis titles)\n",
    "suptitle_font = {'fontname':'sans-serif', 'size':'16', 'color':'black', 'weight':'normal',\n",
    "              'verticalalignment':'bottom'}\n",
    "\n",
    "title_font = {'fontname':'sans-serif', 'size':'20', 'color':'black', 'weight':'normal',}\n",
    "\n",
    "axis_font = {'fontname':'sans-serif', 'size':'14'}"
   ]
  },
  {
   "cell_type": "code",
   "execution_count": null,
   "metadata": {},
   "outputs": [],
   "source": [
    "columns = [\n",
    "    \"run_id\",\n",
    "    \"frame_index\",\n",
    "    \"event_trigger_counter\",\n",
    "    \"interaction_type\",\n",
    "    \"is_cc\",\n",
    "    \"type\",\n",
    "    \"energy_true\",\n",
    "    \"cos_zenith_true\"\n",
    "]"
   ]
  },
  {
   "cell_type": "code",
   "execution_count": null,
   "metadata": {},
   "outputs": [],
   "source": [
    "def rename_h5_df_cols(\n",
    "    df,\n",
    "    mapper={\n",
    "        \"RunID\": \"run_id\",\n",
    "        \"EventID\": \"frame_index\", \n",
    "        \"TrigCount\": \"event_trigger_counter\",\n",
    "    },\n",
    "):\n",
    "    return df.rename(columns=mapper)"
   ]
  },
  {
   "cell_type": "code",
   "execution_count": null,
   "metadata": {},
   "outputs": [],
   "source": [
    "def check_negative_energy(df, column):\n",
    "    df[column] = np.where(df[column] < 0, np.nan, df[column])"
   ]
  },
  {
   "cell_type": "code",
   "execution_count": null,
   "metadata": {},
   "outputs": [],
   "source": [
    "# Load the data\n",
    "print(\"Loading the data...\")\n",
    "\n",
    "# Load the dataframes\n",
    "print(\"Importing into dataframes...\")\n",
    "\n",
    "# Load nnfit reco files\n",
    "nnfit_files = fm.list_files_with_pattern(path+\"nnfit_reco\", \"*taus*\")"
   ]
  },
  {
   "cell_type": "code",
   "execution_count": null,
   "metadata": {},
   "outputs": [],
   "source": [
    "df_nnfit = fm.load_dataframes(nnfit_files, folder_path=path+\"nnfit_reco\")"
   ]
  },
  {
   "cell_type": "code",
   "execution_count": null,
   "metadata": {},
   "outputs": [],
   "source": [
    "rootfile = os.path.join(path, \"nnfit_sample/nutau.root\")\n",
    "dfnu = fm.rootfile_to_df(rootfile, columns=columns)\n",
    "\n",
    "dfnu_low_ma = get_low_energymask(dfnu)\n",
    "dfnu = dfnu.loc[dfnu_low_ma]"
   ]
  },
  {
   "cell_type": "code",
   "execution_count": null,
   "metadata": {},
   "outputs": [],
   "source": [
    "print(\"Renaming the columns...\")\n",
    "df_nnfit = rename_h5_df_cols(df_nnfit)"
   ]
  },
  {
   "cell_type": "code",
   "execution_count": null,
   "metadata": {},
   "outputs": [],
   "source": [
    "# Merge the two dataframes\n",
    "df = dfnu.merge(df_nnfit, on=[\"run_id\",\"frame_index\",\"event_trigger_counter\"], how=\"inner\")\n",
    "\n",
    "print(\"Number of events in the merged dataframe: \", df.shape[0])\n",
    "print(\"Number of NNfit events:\", df_nnfit.shape[0])\n",
    "print(\"Number of nutau events:\", dfnu.shape[0])"
   ]
  },
  {
   "cell_type": "code",
   "execution_count": null,
   "metadata": {},
   "outputs": [],
   "source": [
    "# Create the masks for the flavour types\n",
    "df_el_ma = get_nuemask(df)\n",
    "df.loc[df_el_ma, \"Flavour type\"] = \"electron\"\n",
    "\n",
    "df_muon_ma = get_numumask(df)\n",
    "df.loc[df_muon_ma, \"Flavour type\"] = \"muon\"\n",
    "\n",
    "df_tau_ma = get_nutaumask(df)\n",
    "df.loc[df_tau_ma, \"Flavour type\"] = \"tau\""
   ]
  },
  {
   "cell_type": "code",
   "execution_count": null,
   "metadata": {},
   "outputs": [],
   "source": [
    "# Create the masks for the event types\n",
    "df_track_ma = get_trackmask(df)\n",
    "df.loc[df_track_ma, \"Event type\"] = \"tracks\"\n",
    "\n",
    "df_shower_nc_ma = get_showermask_nc(df)\n",
    "df.loc[df_shower_nc_ma, \"Event type\"] = \"showers_nc\"\n",
    "\n",
    "df_shower_cc_ma = get_showermask_cc(df)\n",
    "df.loc[df_shower_cc_ma, \"Event type\"] = \"showers_cc\""
   ]
  },
  {
   "cell_type": "code",
   "execution_count": null,
   "metadata": {},
   "outputs": [],
   "source": [
    "label_dict = {\n",
    "    \"Shower Energy\": \"NNFitShower_Energy\",\n",
    "    \"Track Energy\": \"NNFitTrack_Energy\",\n",
    "    \"Track Direction\": \"NNFitTrack_cos_zenith\",\n",
    "    \"Shower Direction\": \"NNFitShower_cos_zenith\",\n",
    "    \"Shower CC\": df_shower_cc_ma,\n",
    "    \"Track\": df_track_ma,\n",
    "    \"Shower NC\":df_shower_nc_ma,\n",
    "    \"showers_cc\":\"Shower CC Events\",\n",
    "    \"showers_nc\":\"Shower NC Events\",\n",
    "    \"tracks\":\"Track Events\",\n",
    "}"
   ]
  },
  {
   "cell_type": "code",
   "execution_count": null,
   "metadata": {},
   "outputs": [],
   "source": [
    "df[\"NNFitTrack_Energy\"] = df[\"NNFitTrack_Log10Energy\"].apply(lambda x: 10**x)\n",
    "df[\"NNFitShower_Energy\"] = df[\"NNFitShower_Log10Energy\"].apply(lambda x: 10**x)"
   ]
  },
  {
   "cell_type": "code",
   "execution_count": null,
   "metadata": {},
   "outputs": [],
   "source": [
    "def cos_zenith_from_theta(df, reco_algo):\n",
    "    return df[reco_algo].apply(lambda x: -np.cos(np.radians(x)))"
   ]
  },
  {
   "cell_type": "code",
   "execution_count": null,
   "metadata": {},
   "outputs": [],
   "source": [
    "df[\"NNFitTrack_cos_zenith\"] = cos_zenith_from_theta(df, \"NNFitTrack_Theta\")\n",
    "df[\"NNFitShower_cos_zenith\"] = cos_zenith_from_theta(df, \"NNFitShower_Theta\")"
   ]
  },
  {
   "cell_type": "code",
   "execution_count": null,
   "metadata": {},
   "outputs": [],
   "source": [
    "def plot_reco_events(df, \n",
    "                     recos, \n",
    "                     mask,\n",
    "                     task,\n",
    "                     log_scale=(True, True), # (x, y)\n",
    "                     xlim=None,\n",
    "                     ylim=None, \n",
    "                     bins=100, \n",
    "                     suffix=\"\"):\n",
    "    \n",
    "    # Assign number of subplots\n",
    "    plt_row = len(recos)\n",
    "    plt_col = 1 # number of flavours\n",
    "    \n",
    "    # Task to be plotted\n",
    "    if task == \"energy\":\n",
    "        x_data = \"energy_true\"\n",
    "        xlabel = \"True Energy [GeV]\"\n",
    "        ylabel = \"Reconstructed Energy [GeV]\"\n",
    "        presuffix = \"energy_reco_2dhisto\"\n",
    "    elif task == \"direction\":\n",
    "        x_data = \"cos_zenith_true\"\n",
    "        xlabel = r\"True zenith $\\cos(\\theta)$\"\n",
    "        ylabel = r\"Reconstructed zenith $\\cos(\\theta)$\"\n",
    "        presuffix = \"dir_reco_2dhisto\"\n",
    "        \n",
    "    # Create the figure\n",
    "    fig, ax = plt.subplots(nrows=plt_row, ncols=plt_col, figsize= normal_size)\n",
    "    \n",
    "    #Flatten the axis\n",
    "    ax = ax.flatten()\n",
    "    \n",
    "    for ax, reco in zip(ax, recos):\n",
    "        with warnings.catch_warnings():\n",
    "            warnings.simplefilter(\"ignore\")        \n",
    "            sns.histplot(data= df[mask], x=x_data, y=reco,\n",
    "                         bins=bins, log_scale= log_scale, ax=ax,\n",
    "                         cbar=True, cbar_kws=dict(shrink=.65), cmap=\"cividis\"\n",
    "                         )\n",
    "            if task == \"energy\":    \n",
    "                ax.plot((0,1e2), (0,1e2), \"k--\", color=\"red\",  alpha=0.75, zorder=2, linewidth=4) \n",
    "                \n",
    "            ax.tick_params(axis='both', which='major', labelsize=12)\n",
    "            ax.tick_params(axis='both', which='minor', rotation = 20, labelsize=10)\n",
    "            ax.set(xlabel=None, ylabel=None)\n",
    "            ax.set_title(f\"{reco}\", fontdict= suptitle_font) \n",
    "            if xlim:\n",
    "                ax.set_xlim(xlim)\n",
    "            if ylim:\n",
    "                ax.set_ylim(ylim)\n",
    "    fig.suptitle(f\"True vs Reco for {df[mask]['Event type'].unique()[0]}\", fontdict= title_font)\n",
    "    fig.supxlabel(xlabel, fontdict= axis_font)\n",
    "    fig.supylabel(ylabel, fontdict= axis_font)\n",
    "    fig.tight_layout()\n",
    "    fig.savefig(os.path.join(save_path, f\"{df[mask]['Event type'].unique()[0]}_{presuffix}_{suffix}.png\"))"
   ]
  },
  {
   "cell_type": "code",
   "execution_count": null,
   "metadata": {},
   "outputs": [],
   "source": [
    "plot_reco_events(df, [\"NNFitTrack_cos_zenith\", 'NNFitShower_cos_zenith'] , df_shower_cc_ma, \"direction\", log_scale=(False,False), ylim=(-1,0), xlim=(-1,0), bins=100, suffix=\"nnfit\")"
   ]
  },
  {
   "cell_type": "code",
   "execution_count": null,
   "metadata": {},
   "outputs": [],
   "source": [
    "plot_reco_events(df, [\"NNFitTrack_Energy\", \"NNFitShower_Energy\"], df_shower_cc_ma, task= \"energy\", xlim=(1e1, 1e2), ylim=(10, 1e3), suffix=\"nnfit\")"
   ]
  },
  {
   "cell_type": "code",
   "execution_count": null,
   "metadata": {},
   "outputs": [],
   "source": [
    "def normalize_along_x_axis(\n",
    "    hist\n",
    "):\n",
    "    normalized_values = np.zeros((hist.n_bins[0], hist.n_bins[1]))\n",
    "\n",
    "    for x_bin in range(hist.n_bins[0]):\n",
    "        normalized_values[x_bin,:] = hist.values[x_bin,:] / hist.sum(1).get_values()[x_bin]\n",
    "    \n",
    "    return normalized_values.T"
   ]
  },
  {
   "cell_type": "code",
   "execution_count": null,
   "metadata": {},
   "outputs": [],
   "source": [
    "def plot_2dhisto(\n",
    "    hist,\n",
    "    values,\n",
    "    type = \"energy\"\n",
    "):  \n",
    "    print(f\"Plotting normalized distribution of {type}...\")\n",
    "      \n",
    "    # Plot heatmap\n",
    "    \n",
    "    plt.imshow(values, cmap='cividis', origin='lower', aspect='auto', vmax=.15)\n",
    "\n",
    "    # Add colorbar\n",
    "    plt.colorbar(label='Probability')\n",
    "\n",
    "    if type == \"energy_track\":\n",
    "        distance = 4\n",
    "        plt.xticks(np.arange(0, hist.n_bins[0] + 1, distance), np.round(hist.bins[0][::distance], 2))\n",
    "        plt.yticks(np.arange(0, hist.n_bins[1] + 1, 2 * distance), np.round(hist.bins[1][::2 * distance]))\n",
    "        plt.plot((0,24), (0,17), \"r--\",  alpha=0.75, zorder=2, linewidth=3)\n",
    "    elif type == \"energy_shower\":\n",
    "        distance = 6\n",
    "        plt.xticks(np.arange(0, hist.n_bins[0] + 1, distance), np.round(hist.bins[0][::distance], 2))\n",
    "        plt.yticks(np.arange(0, hist.n_bins[1] + 1, 2 * distance), np.round(hist.bins[1][::2 * distance]))\n",
    "        plt.plot((0,49), (0,25), \"r--\",  alpha=0.75, zorder=2, linewidth=3)\n",
    "    elif type == \"direction\":\n",
    "        distance = 8\n",
    "        plt.xticks(np.arange(0, hist.n_bins[0] + 1, distance), np.round(hist.bins[0][::distance], 2))\n",
    "        plt.yticks(np.arange(0, hist.n_bins[1] + 1, distance), np.round(hist.bins[1][::distance], 2))\n",
    "        plt.plot((0,49), (0,49), \"r--\",  alpha=0.75, zorder=2, linewidth=3)\n",
    "        \n",
    "    return plt.gca() "
   ]
  },
  {
   "cell_type": "code",
   "execution_count": null,
   "metadata": {},
   "outputs": [],
   "source": [
    "def run_all_plots(\n",
    "    df,\n",
    "    dict,\n",
    "    run_comb,\n",
    "):\n",
    "    for particle, task in run_comb:\n",
    "        if task == \"Shower Energy\":\n",
    "            bins = (50, 100) ; range = ((1e1, 1e2), (1e1, 400))\n",
    "        elif task == \"Track Energy\":\n",
    "            bins = (25, 25) ; range = ((1e1, 1e2), (1e1, 150))\n",
    "        elif task == \"Track Direction\" or task == \"Shower Direction\":\n",
    "            bins = (50, 50) ; range = ((-1, 0), (-1, 0))\n",
    "                    \n",
    "        plot_normalized_2dhisto(df, dict, task, particle, bins, range)\n",
    "\n",
    "\n",
    "def plot_normalized_2dhisto(\n",
    "    df,\n",
    "    dict,\n",
    "    task = \"Shower Energy\",\n",
    "    particle = \"Shower CC\",\n",
    "    bins = (50, 100),\n",
    "    range = ((1e1, 1e2), (1e1, 400)),\n",
    "):\n",
    "    # Retrieve dictionary values\n",
    "    mask = dict[particle]\n",
    "    algorithm = dict[task]\n",
    "    events = df[mask]['Event type'].unique()[0]\n",
    "    \n",
    "    \n",
    "    if \"Direction\" in task:\n",
    "        hh = hl.hist((df[mask][\"cos_zenith_true\"], df[mask][algorithm]), bins=bins, range=range)\n",
    "        xlabel = r\"True zenith $\\cos(\\theta)$\" ; ylabel = r\"Reconstructed zenith $\\cos(\\theta)$\" ; plot_type = \"direction\"\n",
    "    elif \"Energy\" in task:\n",
    "        hh = hl.hist((df[mask][\"energy_true\"], df[mask][algorithm]), bins=bins, range=range)\n",
    "        xlabel = \"True Energy [GeV]\" ; ylabel = \"Reconstructed Energy [GeV]\" \n",
    "        \n",
    "        if \"Shower\" in task:\n",
    "            plot_type = \"energy_shower\"\n",
    "        elif \"Track\" in task:\n",
    "            plot_type = \"energy_track\"\n",
    "    else:\n",
    "        raise ValueError(\"task type not recognized\")\n",
    "    \n",
    "    # Plot the 2D histogram\n",
    "    fig, (ax1, ax2) = plt.subplots(1,2, figsize=(14,6))\n",
    "    \n",
    "    # Event Distribution\n",
    "    hl.plot2d(ax1, hh, cbar=True, cmap = \"cividis\", zmin = 5, clabel = \"Events\")\n",
    "    ax1.set_ylim(range[1])\n",
    "\n",
    "    # Normalized plot\n",
    "    ax2 = plot_2dhisto(hh, normalize_along_x_axis(hh), plot_type)\n",
    "    \n",
    "    for ax in (ax1, ax2):\n",
    "        if (\"Energy\" in task) & (ax == ax1):\n",
    "            ax.plot((0,100), (0,1e2), \"r--\",  alpha=0.75, zorder=2, linewidth=3) \n",
    "        elif (\"Direction\" in task) &  (ax == ax1):\n",
    "            ax.plot((-1,0), (-1,0), \"r--\",  alpha=0.75, zorder=2, linewidth=3)\n",
    "        ax.set(xlabel= xlabel, ylabel= ylabel)\n",
    "        \n",
    "    if \"Shower\" in task:\n",
    "        fig.suptitle(f\"NNFitShower for {particle} events\", fontdict= title_font)\n",
    "    elif \"Track\" in task:\n",
    "        fig.suptitle(f\"NNFitTrack for {particle} events\", fontdict= title_font)\n",
    "    fig.tight_layout()\n",
    "    fig.savefig(os.path.join(save_path, f\"{events}_{algorithm}_normalized_2dhisto.png\"))"
   ]
  },
  {
   "cell_type": "code",
   "execution_count": null,
   "metadata": {},
   "outputs": [],
   "source": [
    "run_all_plots(df, label_dict,[(\"Shower CC\", \"Shower Energy\"), (\"Shower CC\", \"Track Energy\"), (\"Shower CC\", \"Shower Direction\"), (\"Shower CC\", \"Track Direction\")])"
   ]
  },
  {
   "cell_type": "code",
   "execution_count": null,
   "metadata": {},
   "outputs": [],
   "source": [
    "# Calculate the relative error of the energy\n",
    "\n",
    "recos = [\"NNFitTrack_Log10Energy\",\n",
    "         \"NNFitShower_Log10Energy\"\n",
    "        ]\n",
    "\n",
    "for reco in recos:\n",
    "    df[f\"{reco}_resolution\"] = (df[reco] - df[\"energy_true\"].apply(np.log10))"
   ]
  },
  {
   "cell_type": "code",
   "execution_count": null,
   "metadata": {},
   "outputs": [],
   "source": [
    "comb = list(product(recos, df[\"Event type\"].unique()))"
   ]
  },
  {
   "cell_type": "code",
   "execution_count": null,
   "metadata": {},
   "outputs": [],
   "source": [
    "def plot_resolution(\n",
    "    df,\n",
    "    comb,\n",
    "    nrows = 2,\n",
    "    ncols = 3,\n",
    "    bins = (50, 100),\n",
    "    x_data = \"energy_true\",\n",
    "    suffix = \"direction_2dhisto.png\",\n",
    "):\n",
    "    \n",
    "    fig, axs = plt.subplots(ncols=ncols, nrows=nrows, figsize= normal_size)\n",
    "    for ax, (reco, event_type) in zip(axs.flatten(), comb):\n",
    "        sns.histplot(data=df[df[\"Event type\"] == event_type], x=x_data, y=f\"{reco}_resolution\",\n",
    "                        bins=bins, ax=ax, cbar=True, cbar_kws=dict(shrink=.65), cmap = \"cividis\")\n",
    "        ax.set(xlabel=None, ylabel=None, ylim=(-1, 1))\n",
    "        ax.tick_params(axis='both', labelsize=12)\n",
    "        label_events = label_dict[event_type]\n",
    "        if reco == \"NNFitTrack_Log10Energy\":\n",
    "            ax.set_title(f\"{label_events} with NNFitTracK\", fontdict= suptitle_font)\n",
    "        elif reco == \"NNFitShower_Log10Energy\":\n",
    "            ax.set_title(f\"{label_events} with NNFitShower\", fontdict= suptitle_font)\n",
    "    fig.suptitle(\"Resolution for the NNFit reco\", fontdict= title_font)\n",
    "    if x_data == \"cos_zenith_true\":\n",
    "        fig.supxlabel(r\"True zenith $\\cos(\\theta)$\", fontdict= axis_font)\n",
    "    elif x_data == \"energy_true\":\n",
    "        fig.supxlabel(\"True energy (GeV)\", fontdict= axis_font)\n",
    "    fig.supylabel(r\"$\\log{E_{reco}}-\\log{E_{true}}$\", fontdict= axis_font)\n",
    "    fig.tight_layout()\n",
    "    fig.savefig(save_path + \"error_energy_recos_\"+ suffix)"
   ]
  },
  {
   "cell_type": "code",
   "execution_count": null,
   "metadata": {},
   "outputs": [],
   "source": [
    "with warnings.catch_warnings():\n",
    "    warnings.simplefilter(\"ignore\")\n",
    "    plot_resolution(df, comb, x_data=\"cos_zenith_true\", suffix=\"direction_2dhisto_nnfit.png\")  "
   ]
  },
  {
   "cell_type": "code",
   "execution_count": null,
   "metadata": {},
   "outputs": [],
   "source": [
    "with warnings.catch_warnings():\n",
    "    warnings.simplefilter(\"ignore\")\n",
    "    plot_resolution(df, comb, x_data=\"energy_true\", suffix=\"energy_2dhisto_nnfit.png\")"
   ]
  }
 ],
 "metadata": {
  "kernelspec": {
   "display_name": "antares-tau",
   "language": "python",
   "name": "python3"
  },
  "language_info": {
   "codemirror_mode": {
    "name": "ipython",
    "version": 3
   },
   "file_extension": ".py",
   "mimetype": "text/x-python",
   "name": "python",
   "nbconvert_exporter": "python",
   "pygments_lexer": "ipython3",
   "version": "3.9.19"
  }
 },
 "nbformat": 4,
 "nbformat_minor": 4
}
