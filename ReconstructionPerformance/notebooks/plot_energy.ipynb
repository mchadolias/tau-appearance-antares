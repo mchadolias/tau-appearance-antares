{
 "cells": [
  {
   "cell_type": "code",
   "execution_count": null,
   "metadata": {},
   "outputs": [],
   "source": [
    "import pandas as pd\n",
    "import numpy as np\n",
    "import matplotlib.pyplot as plt\n",
    "import seaborn as sns\n",
    "import os\n",
    "import warnings\n",
    "from itertools import product\n",
    "import sys\n"
   ]
  },
  {
   "cell_type": "code",
   "execution_count": null,
   "metadata": {},
   "outputs": [],
   "source": [
    "sns.set(style=\"whitegrid\")"
   ]
  },
  {
   "cell_type": "code",
   "execution_count": null,
   "metadata": {},
   "outputs": [],
   "source": [
    "flv = \"tau\"\n",
    "\n",
    "if flv == \"tau\":\n",
    "    identifier = \"tau\"\n",
    "    summary_file = \"full_nutau_sample.root\"\n",
    "elif flv == \"mu\":\n",
    "    identifier = \"numu\"\n",
    "    summary_file = \"full_numu_sample.root\"\n",
    "elif flv == \"nue\":\n",
    "    identifier = \"showers\"\n",
    "    summary_file = \"full_nue_sample.root\"\n",
    "    "
   ]
  },
  {
   "cell_type": "code",
   "execution_count": null,
   "metadata": {},
   "outputs": [],
   "source": [
    "cluster = \"woody\"\n",
    "\n",
    "if cluster == \"woody\":\n",
    "    save_path = \"/home/saturn/capn/mppi133h/master_thesis/tau_appearance/reconstruction_perfomance/plots\"\n",
    "    sys.path.append(\"/home/saturn/capn/mppi133h/master_thesis/tau_appearance/reconstruction_perfomance\")\n",
    "    path = \"/home/wecapstor3/capn/mppi133h/ANTARES/mc\"\n",
    "elif cluster == \"lyon\":\n",
    "    save_path = \"/sps/km3net/users/mchadoli/master_thesis/tau_appearance/reconstuction_perfomance/plots/\"\n",
    "    sys.path.append(\"/sps/km3net/users/mchadoli/master_thesis/tau_appearance/reconstuction_perfomance\")\n",
    "    path = \"/sps/km3net/users/mchadoli/ANTARES/\"\n",
    "    \n",
    "\n",
    "import scripts.file_management as fm\n",
    "import scripts.lib_masks as lm"
   ]
  },
  {
   "cell_type": "code",
   "execution_count": null,
   "metadata": {},
   "outputs": [],
   "source": [
    "columns_energy = [\n",
    "    \"RunID\",\n",
    "    \"EventID\",\n",
    "    \"TriggCounter\",\n",
    "    \"Frame\",\n",
    "    \"interaction_type\",\n",
    "    \"is_cc\",\n",
    "    \"Type\",\n",
    "    \"energy_true\",\n",
    "    \"cos_zenith_true\",\n",
    "    \"energy_aafit_dEdX_CEA\",\n",
    "    \"energy_aafit_ANN_ECAP\",\n",
    "    \"showerdusj_energy\",\n",
    "    \"showertantra_energy\",\n",
    "]"
   ]
  },
  {
   "cell_type": "code",
   "execution_count": null,
   "metadata": {},
   "outputs": [],
   "source": [
    "def rename_h5_df_cols(\n",
    "    df,\n",
    "    mapper={\n",
    "        \"TrigCount\": \"TriggCounter\",\n",
    "        \"EventID\": \"Frame\",\n",
    "    },\n",
    "):\n",
    "    return df.rename(columns=mapper)"
   ]
  },
  {
   "cell_type": "code",
   "execution_count": null,
   "metadata": {},
   "outputs": [],
   "source": [
    "# Load the data\n",
    "print(\"Loading the data...\")\n",
    "\n",
    "# Load the dataframes\n",
    "print(\"Importing into dataframes...\")\n",
    "\n",
    "nnfit_path = os.path.join(path, \"nnfit_reco\")\n",
    "\n",
    "# Load nnfit reco files\n",
    "nnfit_files = fm.list_files_with_pattern(nnfit_path, f\"*{identifier}*\")"
   ]
  },
  {
   "cell_type": "code",
   "execution_count": null,
   "metadata": {},
   "outputs": [],
   "source": [
    "df_nnfit = fm.load_dataframes(nnfit_files, folder_path=path+\"nnfit_reco\")"
   ]
  },
  {
   "cell_type": "code",
   "execution_count": null,
   "metadata": {},
   "outputs": [],
   "source": [
    "rootfile = os.path.join(path, f\"extracted_merged/low_energy/{summary_file}\")\n",
    "dfnu = fm.rootfile_to_df(rootfile, columns=columns_energy)"
   ]
  },
  {
   "cell_type": "code",
   "execution_count": null,
   "metadata": {},
   "outputs": [],
   "source": [
    "print(\"Renaming the columns...\")\n",
    "df_nnfit = rename_h5_df_cols(df_nnfit)"
   ]
  },
  {
   "cell_type": "code",
   "execution_count": null,
   "metadata": {},
   "outputs": [],
   "source": [
    "# Merge the two dataframes\n",
    "df = dfnu.merge(df_nnfit, on=[\"RunID\",\"Frame\",\"TriggCounter\"], how=\"left\")\n",
    "\n",
    "print(\"Number of events in the merged dataframe: \", df.shape[0])\n",
    "print(\"Number of NNfit events:\", df_nnfit.shape[0])\n",
    "print(\"Number of nutau events:\", dfnu.shape[0])"
   ]
  },
  {
   "cell_type": "code",
   "execution_count": null,
   "metadata": {},
   "outputs": [],
   "source": [
    "# Apply the masks\n",
    "df = lm.apply_all_masks(df)\n",
    "\n",
    "df_track_ma = lm.get_trackmask(df)\n",
    "df_shower_cc_ma = lm.get_showermask_cc(df)\n",
    "df_shower_nc_ma = lm.get_showermask_nc(df)"
   ]
  },
  {
   "cell_type": "code",
   "execution_count": null,
   "metadata": {},
   "outputs": [],
   "source": [
    "# Add the energy columns\n",
    "for column in [\"NNFitTrack\", \"NNFitShower\"]:\n",
    "    df[f'{column}_Energy'] = df[f'{column}_Log10Energy'].apply(lambda x: 10**x)"
   ]
  },
  {
   "cell_type": "code",
   "execution_count": null,
   "metadata": {},
   "outputs": [],
   "source": [
    "def plot_energy_reco(df, \n",
    "                     recos, \n",
    "                     mask,\n",
    "                     plt_col,\n",
    "                     plt_row, \n",
    "                     bins=100, \n",
    "                     xlim=(1e1, 1e2),\n",
    "                     ylim=(10, 1e3),\n",
    "                     xlabel=\"True Energy (GeV)\", \n",
    "                     ylabel=\"Reconstructed Energy (GeV)\",\n",
    "                     path=\"/sps/km3net/users/mchadoli/tau_appearance/expected_events/plots/\"\n",
    "                     ):\n",
    "    fig, ax = plt.subplots(nrows=plt_row, ncols=plt_col, figsize=(10, 10))\n",
    "    \n",
    "    #Flatten the axis\n",
    "    ax = ax.flatten()\n",
    "    \n",
    "    for ax, reco in zip(ax, recos):\n",
    "        with warnings.catch_warnings():\n",
    "            warnings.simplefilter(\"ignore\")        \n",
    "            sns.histplot(data= df[mask][df[mask][reco]>0], x=\"energy_true\", y=reco,\n",
    "                         bins=bins, log_scale=(True,True), ax=ax, \n",
    "                         cbar=True,  cmap='viridis', cbar_kws=dict(shrink=.65),\n",
    "                         )    \n",
    "            ax.plot((0,1e2), (0,1e2), \"k--\", color=\"red\",  alpha=0.75, zorder=2, linewidth=4) \n",
    "            ax.tick_params(axis='both', which='minor', rotation= 30, labelsize=10)\n",
    "            ax.set(xlabel=None, ylabel=None)\n",
    "            ax.set_title(f\"{reco}\", fontsize=22)\n",
    "            if xlim:\n",
    "                ax.set_xlim(xlim)\n",
    "            if ylim:\n",
    "                ax.set_ylim(ylim)\n",
    "    fig.suptitle(f\"True vs Reco for {df[mask]['Event type'].unique()[0]}\", fontsize=24)\n",
    "    fig.supxlabel(xlabel, fontsize=22)\n",
    "    fig.supylabel(ylabel, fontsize=22)\n",
    "    fig.tight_layout()\n",
    "    fig.savefig(os.path.join(path, f\"{df[mask]['Flavour type'].unique()[0]}_{df[mask]['Event type'].unique()[0]}_energy_reco_2dhisto.png\"))"
   ]
  },
  {
   "cell_type": "code",
   "execution_count": null,
   "metadata": {},
   "outputs": [],
   "source": [
    "# Plot for all masks \n",
    "\n",
    "def run_all_energy_reco_plots(df, recos, path):\n",
    "    for mask in [df_track_ma, df_shower_cc_ma, df_shower_nc_ma]:\n",
    "        plot_energy_reco(df, recos, mask, 2, 2, path=path)   "
   ]
  },
  {
   "cell_type": "code",
   "execution_count": null,
   "metadata": {},
   "outputs": [],
   "source": [
    "run_all_energy_reco_plots(df, [\"NNFitTrack_Energy\", \"NNFitShower_Energy\", \"energy_aafit_dEdX_CEA\", \"energy_aafit_ANN_ECAP\"], save_path)"
   ]
  },
  {
   "cell_type": "code",
   "execution_count": null,
   "metadata": {},
   "outputs": [],
   "source": [
    "# Calculate the relative error of the energy\n",
    "track_energy_reco = [\"energy_aafit_dEdX_CEA\", \"energy_aafit_ANN_ECAP\", \"NNFitTrack_Energy\"]\n",
    "shower_energy_reco = [\"showerdusj_energy\", \"showertantra_energy\", \"NNFitShower_Energy\"]\n",
    "\n",
    "for algo in track_energy_reco + shower_energy_reco:        \n",
    "    df[f\"{algo}_relative_error\"] = abs(df[f\"{algo}\"] - df[\"energy_true\"])/df[\"energy_true\"]"
   ]
  },
  {
   "cell_type": "code",
   "execution_count": null,
   "metadata": {},
   "outputs": [],
   "source": [
    "# Create the true energy bins\n",
    "energy_true_bins = np.linspace(10, 100, 25)\n",
    "df[\"energy_true_bins\"] = pd.cut(df[\"energy_true\"], bins=energy_true_bins)"
   ]
  },
  {
   "cell_type": "code",
   "execution_count": null,
   "metadata": {},
   "outputs": [],
   "source": [
    "def calculate_energy_reco_median(df, reco, energy_bins):\n",
    "    return df.groupby(\"energy_true_bins\")[reco].median().reset_index()"
   ]
  },
  {
   "cell_type": "code",
   "execution_count": null,
   "metadata": {},
   "outputs": [],
   "source": [
    "# Create the median error dataframe\n",
    "mean_error = pd.DataFrame()\n",
    "\n",
    "columns_errors = [\"median_error_nnfit_track\", \"median_error_nnfit_shower\", \"median_error_aafit_dEdX_CEA\", \"median_error_aafit_ANN_ECAP\", \"median_error_showerdusj_energy\"]\n",
    "df_cols = [\"NNFitTrack_Energy_relative_error\", \"NNFitShower_Energy_relative_error\", \"energy_aafit_dEdX_CEA_relative_error\", \"energy_aafit_ANN_ECAP_relative_error\", \"showerdusj_energy_relative_error\"]\n",
    "\n",
    "dfs = df[(df[\"Flavour type\"] == \"tau\") & (df[\"Event type\"] == \"showers_cc\")]\n",
    "\n",
    "# Group the data by the true energy bins\n",
    "with warnings.catch_warnings():\n",
    "    warnings.simplefilter(\"ignore\")   \n",
    "    for col, df_col in zip(columns_errors, df_cols):\n",
    "        mean_error[col] = dfs.groupby(\"energy_true_bins\").median()[df_col]\n",
    "        \n",
    "\n",
    "energy_true_bins_midpoints = dfs[\"energy_true_bins\"].apply(lambda x: x.mid).unique()\n",
    "\n",
    "midpoints = [(energy_true_bins[i] + energy_true_bins[i + 1]) / 2 for i in range(len(energy_true_bins) - 1)]\n",
    "mean_error[\"midpoints\"] = midpoints\n",
    "mean_error.reset_index(inplace=True)\n",
    "mean_error.head()\n"
   ]
  },
  {
   "cell_type": "code",
   "execution_count": null,
   "metadata": {},
   "outputs": [],
   "source": [
    "dict_reco = {\n",
    "    \"median_error_nnfit_track\": \"NNFitTrack_Energy\",\n",
    "    \"median_error_nnfit_shower\": \"NNFitShower_Energy\",\n",
    "    \"median_error_aafit_dEdX_CEA\": \"energy_aafit_dEdX_CEA\",\n",
    "    \"median_error_aafit_ANN_ECAP\": \"energy_aafit_ANN_ECAP\",\n",
    "    \"median_error_showerdusj_energy\": \"showerdusj_energy\"\n",
    "}"
   ]
  },
  {
   "cell_type": "code",
   "execution_count": null,
   "metadata": {},
   "outputs": [],
   "source": [
    "fig, ax = plt.subplots(figsize=(20, 10), sharex=True)\n",
    "with warnings.catch_warnings():\n",
    "    warnings.simplefilter(\"ignore\")        \n",
    "    for col in columns_errors:\n",
    "        sns.lineplot(data=mean_error, x=midpoints, y=mean_error[col]*100,   marker=\"o\", markersize=10, linestyle=\"-\", ax=ax, label=f\"{dict_reco[col]}\")\n",
    "    ax.set_ylabel(\"Median relative absolute error \" + r\"$\\frac{|E_{rec} - E_{true}|}{E_{true}}$\" + \" (%)\", fontsize=20)\n",
    "    ax.set_xlabel(\"True energy (GeV)\", fontsize=20)\n",
    "    ax.set_yscale(\"log\")\n",
    "    #ax.set_title(\"Median absolute relative error for energy reconstructions\", fontsize=24)\n",
    "    sns.move_legend(ax, \"upper right\", bbox_to_anchor=(1.01, 1.015), fontsize=20)   \n",
    "    ax.tick_params(axis='both', which='major', labelsize=20)\n",
    "    fig.tight_layout()\n",
    "    fig.show()\n",
    "fig.savefig(os.path.join(save_path, f\"{identifier}_median_absolute_relative_error.png\"))"
   ]
  }
 ],
 "metadata": {
  "kernelspec": {
   "display_name": "km3net-conda",
   "language": "python",
   "name": "python3"
  },
  "language_info": {
   "codemirror_mode": {
    "name": "ipython",
    "version": 3
   },
   "file_extension": ".py",
   "mimetype": "text/x-python",
   "name": "python",
   "nbconvert_exporter": "python",
   "pygments_lexer": "ipython3",
   "version": "3.9.19"
  }
 },
 "nbformat": 4,
 "nbformat_minor": 2
}
